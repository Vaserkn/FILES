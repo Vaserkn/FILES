{
 "cells": [
  {
   "cell_type": "code",
   "execution_count": 1,
   "metadata": {},
   "outputs": [],
   "source": [
    "import pandas as pd\n",
    "import re\n",
    "import numpy as np"
   ]
  },
  {
   "cell_type": "markdown",
   "metadata": {},
   "source": [
    "# Подготовка данных с информацией аниме"
   ]
  },
  {
   "cell_type": "code",
   "execution_count": 2,
   "metadata": {},
   "outputs": [],
   "source": [
    "anime = pd.read_csv('/media/vaserkn/HDD/Anime_rec_sys/anime.csv')"
   ]
  },
  {
   "cell_type": "code",
   "execution_count": 3,
   "metadata": {},
   "outputs": [],
   "source": [
    "for col in anime.columns:\n",
    "        anime.loc[anime[col] == 'Unknown', col] = np.nan"
   ]
  },
  {
   "cell_type": "markdown",
   "metadata": {},
   "source": [
    "## Найдем рейтинг для строк, где находится np.nan, с помощью 'Score-1', 'Score-2',..., 'Score-10', если это возможно"
   ]
  },
  {
   "cell_type": "code",
   "execution_count": 4,
   "metadata": {},
   "outputs": [
    {
     "data": {
      "text/plain": [
       "['Score-1',\n",
       " 'Score-2',\n",
       " 'Score-3',\n",
       " 'Score-4',\n",
       " 'Score-5',\n",
       " 'Score-6',\n",
       " 'Score-7',\n",
       " 'Score-8',\n",
       " 'Score-9',\n",
       " 'Score-10']"
      ]
     },
     "execution_count": 4,
     "metadata": {},
     "output_type": "execute_result"
    }
   ],
   "source": [
    "#  Создание массива с колонками 'Score-1',...,'Score-10' для удобства\n",
    "score_cols = []\n",
    "for col in anime.columns:\n",
    "    if 'Score-' in col:\n",
    "        score_cols.append(col)\n",
    "score_cols.reverse()\n",
    "score_cols"
   ]
  },
  {
   "cell_type": "code",
   "execution_count": 5,
   "metadata": {},
   "outputs": [
    {
     "data": {
      "text/plain": [
       "MAL_ID         0\n",
       "Score       5141\n",
       "Score-1      452\n",
       "Score-2     1570\n",
       "Score-3     1299\n",
       "Score-4      974\n",
       "Score-5      584\n",
       "Score-6      511\n",
       "Score-7      503\n",
       "Score-8     1347\n",
       "Score-9     2921\n",
       "Score-10     437\n",
       "dtype: int64"
      ]
     },
     "execution_count": 5,
     "metadata": {},
     "output_type": "execute_result"
    }
   ],
   "source": [
    "#  Выберем колонки только связанные с рейтингом и с np.nan\n",
    "y = anime.loc[anime['Score'].isnull()]\n",
    "y = pd.concat([y[['MAL_ID', 'Score']], y[score_cols]], axis=1)\n",
    "y.isnull().sum()"
   ]
  },
  {
   "cell_type": "code",
   "execution_count": 6,
   "metadata": {},
   "outputs": [
    {
     "data": {
      "text/plain": [
       "MAL_ID         0\n",
       "Score       1320\n",
       "Score-1        0\n",
       "Score-2        0\n",
       "Score-3        0\n",
       "Score-4        0\n",
       "Score-5        0\n",
       "Score-6        0\n",
       "Score-7        0\n",
       "Score-8        0\n",
       "Score-9        0\n",
       "Score-10       0\n",
       "dtype: int64"
      ]
     },
     "execution_count": 6,
     "metadata": {},
     "output_type": "execute_result"
    }
   ],
   "source": [
    "#  Удаляем все колонки 'Score-1',...,'Score-2' с np.nan и меняем тип оставшихся на float\n",
    "y.loc[:, 'Score'] = 0\n",
    "y = y.dropna()\n",
    "y.loc[:, 'Score'] = np.NaN\n",
    "for col in score_cols:\n",
    "    y[col] = y[col].astype(float)\n",
    "y.isnull().sum()\n"
   ]
  },
  {
   "cell_type": "code",
   "execution_count": 7,
   "metadata": {},
   "outputs": [],
   "source": [
    "# Находим ср.рейтинг и записываем его в dataset\n",
    "for i in range(y.shape[0]):\n",
    "    total_score, total_users = 0, 0\n",
    "    for score, col in enumerate(score_cols):\n",
    "        total_score += y.iloc[i][col] * (score + 1)\n",
    "        total_users += y.iloc[i][col]\n",
    "    MAL_ID = y.iloc[i]['MAL_ID']\n",
    "    anime.loc[anime['MAL_ID'] == MAL_ID, 'Score'] = round(total_score / total_users, 2)"
   ]
  },
  {
   "cell_type": "code",
   "execution_count": 8,
   "metadata": {},
   "outputs": [
    {
     "data": {
      "text/plain": [
       "MAL_ID               0\n",
       "Name                 0\n",
       "Score             3821\n",
       "Genres              63\n",
       "English name     10565\n",
       "Japanese name       48\n",
       "Type                37\n",
       "Episodes           516\n",
       "Aired              309\n",
       "Premiered        12817\n",
       "Producers         7794\n",
       "Licensors        13616\n",
       "Studios           7079\n",
       "Source            3567\n",
       "Duration           555\n",
       "Rating             688\n",
       "Ranked            1762\n",
       "Popularity           0\n",
       "Members              0\n",
       "Favorites            0\n",
       "Watching             0\n",
       "Completed            0\n",
       "On-Hold              0\n",
       "Dropped              0\n",
       "Plan to Watch        0\n",
       "Score-10           437\n",
       "Score-9           3167\n",
       "Score-8           1371\n",
       "Score-7            503\n",
       "Score-6            511\n",
       "Score-5            584\n",
       "Score-4            977\n",
       "Score-3           1307\n",
       "Score-2           1597\n",
       "Score-1            459\n",
       "dtype: int64"
      ]
     },
     "execution_count": 8,
     "metadata": {},
     "output_type": "execute_result"
    }
   ],
   "source": [
    "# Удалось найти 1320 рейтингов\n",
    "anime.isnull().sum()"
   ]
  },
  {
   "cell_type": "markdown",
   "metadata": {},
   "source": [
    "## Отбор колонок"
   ]
  },
  {
   "cell_type": "code",
   "execution_count": 9,
   "metadata": {},
   "outputs": [
    {
     "data": {
      "text/plain": [
       "Index(['MAL_ID', 'Name', 'Score', 'Genres', 'English name', 'Japanese name',\n",
       "       'Type', 'Episodes', 'Aired', 'Premiered', 'Producers', 'Licensors',\n",
       "       'Studios', 'Source', 'Duration', 'Rating', 'Ranked', 'Popularity',\n",
       "       'Members', 'Favorites', 'Watching', 'Completed', 'On-Hold', 'Dropped',\n",
       "       'Plan to Watch', 'Score-10', 'Score-9', 'Score-8', 'Score-7', 'Score-6',\n",
       "       'Score-5', 'Score-4', 'Score-3', 'Score-2', 'Score-1'],\n",
       "      dtype='object')"
      ]
     },
     "execution_count": 9,
     "metadata": {},
     "output_type": "execute_result"
    }
   ],
   "source": [
    "anime.columns"
   ]
  },
  {
   "cell_type": "code",
   "execution_count": 10,
   "metadata": {},
   "outputs": [],
   "source": [
    "selected_cols = ['MAL_ID', 'Name', 'Score', 'Genres', 'Type', 'Episodes', 'Aired', 'Duration', 'Rating', \n",
    "                 'Popularity', 'Members', 'Favorites']"
   ]
  },
  {
   "cell_type": "code",
   "execution_count": 11,
   "metadata": {},
   "outputs": [],
   "source": [
    "anime = anime[selected_cols]"
   ]
  },
  {
   "cell_type": "code",
   "execution_count": 12,
   "metadata": {},
   "outputs": [],
   "source": [
    "anime['Score'] = anime['Score'].astype(float)\n",
    "anime['MAL_ID'] = anime['MAL_ID'].astype(object)"
   ]
  },
  {
   "cell_type": "markdown",
   "metadata": {},
   "source": [
    "## Заполним пропущенные значения в рейтинге средним рейтингом всех аниме"
   ]
  },
  {
   "cell_type": "code",
   "execution_count": 13,
   "metadata": {},
   "outputs": [],
   "source": [
    "anime.loc[:, 'Score'] = anime.loc[:, 'Score'].fillna(anime['Score'].mean())"
   ]
  },
  {
   "cell_type": "markdown",
   "metadata": {},
   "source": [
    "## Отчистим названия аниме от бесполезных символов"
   ]
  },
  {
   "cell_type": "code",
   "execution_count": 16,
   "metadata": {},
   "outputs": [],
   "source": [
    "def clean(text):\n",
    "    text = re.sub(r'&quot;', '', text)\n",
    "    text = re.sub(r'.hack//', '', text)\n",
    "    text = re.sub(r'&#039;', '', text)\n",
    "    text = re.sub(r'A&#039;s', '', text)\n",
    "    text = re.sub(r'I&#039;', 'I\\'', text)\n",
    "    text = re.sub(r'&amp;', 'and', text)\n",
    "    \n",
    "    return text"
   ]
  },
  {
   "cell_type": "code",
   "execution_count": 26,
   "metadata": {},
   "outputs": [],
   "source": [
    "anime['Name'] = anime['Name'].apply(clean)"
   ]
  },
  {
   "cell_type": "code",
   "execution_count": 18,
   "metadata": {},
   "outputs": [
    {
     "name": "stdout",
     "output_type": "stream",
     "text": [
      "<class 'pandas.core.frame.DataFrame'>\n",
      "RangeIndex: 17562 entries, 0 to 17561\n",
      "Data columns (total 12 columns):\n",
      " #   Column      Non-Null Count  Dtype  \n",
      "---  ------      --------------  -----  \n",
      " 0   MAL_ID      17562 non-null  object \n",
      " 1   Name        17562 non-null  object \n",
      " 2   Score       17562 non-null  float64\n",
      " 3   Genres      17499 non-null  object \n",
      " 4   Type        17525 non-null  object \n",
      " 5   Episodes    17046 non-null  object \n",
      " 6   Aired       17253 non-null  object \n",
      " 7   Duration    17007 non-null  object \n",
      " 8   Rating      16874 non-null  object \n",
      " 9   Popularity  17562 non-null  float64\n",
      " 10  Members     17562 non-null  float64\n",
      " 11  Favorites   17562 non-null  float64\n",
      "dtypes: float64(4), object(8)\n",
      "memory usage: 1.6+ MB\n"
     ]
    }
   ],
   "source": [
    "anime.info()"
   ]
  },
  {
   "cell_type": "code",
   "execution_count": 19,
   "metadata": {},
   "outputs": [
    {
     "data": {
      "text/plain": [
       "MAL_ID          0\n",
       "Name            0\n",
       "Score           0\n",
       "Genres         63\n",
       "Type           37\n",
       "Episodes      516\n",
       "Aired         309\n",
       "Duration      555\n",
       "Rating        688\n",
       "Popularity      0\n",
       "Members         0\n",
       "Favorites       0\n",
       "dtype: int64"
      ]
     },
     "execution_count": 19,
     "metadata": {},
     "output_type": "execute_result"
    }
   ],
   "source": [
    "anime.isnull().sum()"
   ]
  },
  {
   "cell_type": "code",
   "execution_count": 21,
   "metadata": {},
   "outputs": [],
   "source": [
    "anime.to_csv('anime.csv')"
   ]
  },
  {
   "cell_type": "markdown",
   "metadata": {},
   "source": [
    "# Подготовка данных с информацией о рейтинге"
   ]
  },
  {
   "cell_type": "code",
   "execution_count": 2,
   "metadata": {},
   "outputs": [],
   "source": [
    "ratings = pd.read_csv('/media/vaserkn/HDD/Anime_rec_sys/rating_complete.csv')"
   ]
  },
  {
   "cell_type": "markdown",
   "metadata": {},
   "source": [
    "## Возьмём миллион значений, чтобы хватало памяти"
   ]
  },
  {
   "cell_type": "code",
   "execution_count": 12,
   "metadata": {},
   "outputs": [],
   "source": [
    "ratings = ratings.iloc[:1000000]"
   ]
  },
  {
   "cell_type": "code",
   "execution_count": 13,
   "metadata": {},
   "outputs": [],
   "source": [
    "x = ratings['user_id'].value_counts()"
   ]
  },
  {
   "cell_type": "markdown",
   "metadata": {},
   "source": [
    "## Отберём пользователей, поставивших рейтинги 10 и больше аниме"
   ]
  },
  {
   "cell_type": "code",
   "execution_count": 14,
   "metadata": {},
   "outputs": [],
   "source": [
    "raitngs = ratings[ratings['user_id'].isin(x[x >= 10].index)]"
   ]
  },
  {
   "cell_type": "code",
   "execution_count": 15,
   "metadata": {},
   "outputs": [],
   "source": [
    "ratings.to_csv('ratings.csv')"
   ]
  }
 ],
 "metadata": {
  "kernelspec": {
   "display_name": "vscode_venv",
   "language": "python",
   "name": "python3"
  },
  "language_info": {
   "codemirror_mode": {
    "name": "ipython",
    "version": 3
   },
   "file_extension": ".py",
   "mimetype": "text/x-python",
   "name": "python",
   "nbconvert_exporter": "python",
   "pygments_lexer": "ipython3",
   "version": "3.11.2"
  },
  "orig_nbformat": 4
 },
 "nbformat": 4,
 "nbformat_minor": 2
}
